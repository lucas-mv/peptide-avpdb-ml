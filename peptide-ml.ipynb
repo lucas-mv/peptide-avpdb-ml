{
 "cells": [
  {
   "cell_type": "markdown",
   "id": "151b4e5f",
   "metadata": {},
   "source": [
    "# Análise de sequências de peptídeos para uso antiviral"
   ]
  },
  {
   "cell_type": "code",
   "execution_count": 1,
   "id": "5b05328a",
   "metadata": {},
   "outputs": [
    {
     "name": "stdout",
     "output_type": "stream",
     "text": [
      "\u001b[33mDEPRECATION: Configuring installation scheme with distutils config files is deprecated and will no longer work in the near future. If you are using a Homebrew or Linuxbrew Python, please see discussion at https://github.com/Homebrew/homebrew-core/issues/76621\u001b[0m\u001b[33m\n",
      "\u001b[0mRequirement already satisfied: pandas in /usr/local/lib/python3.9/site-packages (1.4.2)\n",
      "Requirement already satisfied: pytz>=2020.1 in /usr/local/lib/python3.9/site-packages (from pandas) (2022.1)\n",
      "Requirement already satisfied: numpy>=1.18.5 in /usr/local/lib/python3.9/site-packages (from pandas) (1.22.4)\n",
      "Requirement already satisfied: python-dateutil>=2.8.1 in /usr/local/lib/python3.9/site-packages (from pandas) (2.8.2)\n",
      "Requirement already satisfied: six>=1.5 in /usr/local/lib/python3.9/site-packages (from python-dateutil>=2.8.1->pandas) (1.16.0)\n",
      "\u001b[33mDEPRECATION: Configuring installation scheme with distutils config files is deprecated and will no longer work in the near future. If you are using a Homebrew or Linuxbrew Python, please see discussion at https://github.com/Homebrew/homebrew-core/issues/76621\u001b[0m\u001b[33m\n",
      "\u001b[0m\u001b[33mWARNING: You are using pip version 22.0.4; however, version 22.1.2 is available.\n",
      "You should consider upgrading via the '/usr/local/opt/python@3.9/bin/python3.9 -m pip install --upgrade pip' command.\u001b[0m\u001b[33m\n",
      "\u001b[0m\u001b[33mDEPRECATION: Configuring installation scheme with distutils config files is deprecated and will no longer work in the near future. If you are using a Homebrew or Linuxbrew Python, please see discussion at https://github.com/Homebrew/homebrew-core/issues/76621\u001b[0m\u001b[33m\n",
      "\u001b[0mRequirement already satisfied: matplotlib in /usr/local/lib/python3.9/site-packages (3.5.2)\n",
      "Requirement already satisfied: packaging>=20.0 in /usr/local/lib/python3.9/site-packages (from matplotlib) (21.3)\n",
      "Requirement already satisfied: cycler>=0.10 in /usr/local/lib/python3.9/site-packages (from matplotlib) (0.11.0)\n",
      "Requirement already satisfied: numpy>=1.17 in /usr/local/lib/python3.9/site-packages (from matplotlib) (1.22.4)\n",
      "Requirement already satisfied: pyparsing>=2.2.1 in /usr/local/lib/python3.9/site-packages (from matplotlib) (3.0.9)\n",
      "Requirement already satisfied: kiwisolver>=1.0.1 in /usr/local/lib/python3.9/site-packages (from matplotlib) (1.4.3)\n",
      "Requirement already satisfied: fonttools>=4.22.0 in /usr/local/lib/python3.9/site-packages (from matplotlib) (4.33.3)\n",
      "Requirement already satisfied: python-dateutil>=2.7 in /usr/local/lib/python3.9/site-packages (from matplotlib) (2.8.2)\n",
      "Requirement already satisfied: pillow>=6.2.0 in /usr/local/lib/python3.9/site-packages (from matplotlib) (9.1.1)\n",
      "Requirement already satisfied: six>=1.5 in /usr/local/lib/python3.9/site-packages (from python-dateutil>=2.7->matplotlib) (1.16.0)\n",
      "\u001b[33mDEPRECATION: Configuring installation scheme with distutils config files is deprecated and will no longer work in the near future. If you are using a Homebrew or Linuxbrew Python, please see discussion at https://github.com/Homebrew/homebrew-core/issues/76621\u001b[0m\u001b[33m\n",
      "\u001b[0m\u001b[33mWARNING: You are using pip version 22.0.4; however, version 22.1.2 is available.\n",
      "You should consider upgrading via the '/usr/local/opt/python@3.9/bin/python3.9 -m pip install --upgrade pip' command.\u001b[0m\u001b[33m\n",
      "\u001b[0m\u001b[33mDEPRECATION: Configuring installation scheme with distutils config files is deprecated and will no longer work in the near future. If you are using a Homebrew or Linuxbrew Python, please see discussion at https://github.com/Homebrew/homebrew-core/issues/76621\u001b[0m\u001b[33m\n",
      "\u001b[0mRequirement already satisfied: numpy in /usr/local/lib/python3.9/site-packages (1.22.4)\n",
      "\u001b[33mDEPRECATION: Configuring installation scheme with distutils config files is deprecated and will no longer work in the near future. If you are using a Homebrew or Linuxbrew Python, please see discussion at https://github.com/Homebrew/homebrew-core/issues/76621\u001b[0m\u001b[33m\n",
      "\u001b[0m\u001b[33mWARNING: You are using pip version 22.0.4; however, version 22.1.2 is available.\n",
      "You should consider upgrading via the '/usr/local/opt/python@3.9/bin/python3.9 -m pip install --upgrade pip' command.\u001b[0m\u001b[33m\n",
      "\u001b[0m\u001b[33mDEPRECATION: Configuring installation scheme with distutils config files is deprecated and will no longer work in the near future. If you are using a Homebrew or Linuxbrew Python, please see discussion at https://github.com/Homebrew/homebrew-core/issues/76621\u001b[0m\u001b[33m\n",
      "\u001b[0mRequirement already satisfied: sklearn in /usr/local/lib/python3.9/site-packages (0.0)\n",
      "Requirement already satisfied: scikit-learn in /usr/local/lib/python3.9/site-packages (from sklearn) (1.1.1)\n",
      "Requirement already satisfied: numpy>=1.17.3 in /usr/local/lib/python3.9/site-packages (from scikit-learn->sklearn) (1.22.4)\n",
      "Requirement already satisfied: scipy>=1.3.2 in /usr/local/lib/python3.9/site-packages (from scikit-learn->sklearn) (1.8.1)\n",
      "Requirement already satisfied: joblib>=1.0.0 in /usr/local/lib/python3.9/site-packages (from scikit-learn->sklearn) (1.1.0)\n",
      "Requirement already satisfied: threadpoolctl>=2.0.0 in /usr/local/lib/python3.9/site-packages (from scikit-learn->sklearn) (3.1.0)\n",
      "\u001b[33mDEPRECATION: Configuring installation scheme with distutils config files is deprecated and will no longer work in the near future. If you are using a Homebrew or Linuxbrew Python, please see discussion at https://github.com/Homebrew/homebrew-core/issues/76621\u001b[0m\u001b[33m\n",
      "\u001b[0m\u001b[33mWARNING: You are using pip version 22.0.4; however, version 22.1.2 is available.\n",
      "You should consider upgrading via the '/usr/local/opt/python@3.9/bin/python3.9 -m pip install --upgrade pip' command.\u001b[0m\u001b[33m\n",
      "\u001b[0m\u001b[33mDEPRECATION: Configuring installation scheme with distutils config files is deprecated and will no longer work in the near future. If you are using a Homebrew or Linuxbrew Python, please see discussion at https://github.com/Homebrew/homebrew-core/issues/76621\u001b[0m\u001b[33m\n",
      "\u001b[0mRequirement already satisfied: torch in /usr/local/lib/python3.9/site-packages (1.11.0)\n",
      "Requirement already satisfied: typing-extensions in /usr/local/lib/python3.9/site-packages (from torch) (4.2.0)\n",
      "\u001b[33mDEPRECATION: Configuring installation scheme with distutils config files is deprecated and will no longer work in the near future. If you are using a Homebrew or Linuxbrew Python, please see discussion at https://github.com/Homebrew/homebrew-core/issues/76621\u001b[0m\u001b[33m\n",
      "\u001b[0m\u001b[33mWARNING: You are using pip version 22.0.4; however, version 22.1.2 is available.\n",
      "You should consider upgrading via the '/usr/local/opt/python@3.9/bin/python3.9 -m pip install --upgrade pip' command.\u001b[0m\u001b[33m\n",
      "\u001b[0m\u001b[33mDEPRECATION: Configuring installation scheme with distutils config files is deprecated and will no longer work in the near future. If you are using a Homebrew or Linuxbrew Python, please see discussion at https://github.com/Homebrew/homebrew-core/issues/76621\u001b[0m\u001b[33m\n",
      "\u001b[0mRequirement already satisfied: blosum in /usr/local/lib/python3.9/site-packages (1.1.3)\n",
      "\u001b[33mDEPRECATION: Configuring installation scheme with distutils config files is deprecated and will no longer work in the near future. If you are using a Homebrew or Linuxbrew Python, please see discussion at https://github.com/Homebrew/homebrew-core/issues/76621\u001b[0m\u001b[33m\n",
      "\u001b[0m\u001b[33mWARNING: You are using pip version 22.0.4; however, version 22.1.2 is available.\n",
      "You should consider upgrading via the '/usr/local/opt/python@3.9/bin/python3.9 -m pip install --upgrade pip' command.\u001b[0m\u001b[33m\n",
      "\u001b[0m"
     ]
    }
   ],
   "source": [
    "# Instalação de bibliotecas necessárias\n",
    "\n",
    "! pip3 install pandas\n",
    "! pip3 install matplotlib\n",
    "! pip3 install numpy\n",
    "! pip3 install sklearn\n",
    "! pip3 install torch\n",
    "! pip3 install blosum"
   ]
  },
  {
   "cell_type": "code",
   "execution_count": 1,
   "id": "68477d33",
   "metadata": {},
   "outputs": [],
   "source": [
    "# Importação de bibliotecas de uso geral\n",
    "\n",
    "import pandas as pd\n",
    "import sklearn\n",
    "import statistics \n",
    "import matplotlib.pyplot as plt\n",
    "from decimal import Decimal\n",
    "import numpy as np"
   ]
  },
  {
   "cell_type": "code",
   "execution_count": 2,
   "id": "c0d845d3",
   "metadata": {},
   "outputs": [
    {
     "data": {
      "text/html": [
       "<div>\n",
       "<style scoped>\n",
       "    .dataframe tbody tr th:only-of-type {\n",
       "        vertical-align: middle;\n",
       "    }\n",
       "\n",
       "    .dataframe tbody tr th {\n",
       "        vertical-align: top;\n",
       "    }\n",
       "\n",
       "    .dataframe thead th {\n",
       "        text-align: right;\n",
       "    }\n",
       "</style>\n",
       "<table border=\"1\" class=\"dataframe\">\n",
       "  <thead>\n",
       "    <tr style=\"text-align: right;\">\n",
       "      <th></th>\n",
       "      <th>Id</th>\n",
       "      <th>Sequence</th>\n",
       "      <th>Length</th>\n",
       "      <th>Virus</th>\n",
       "      <th>Abbreviation</th>\n",
       "      <th>Family</th>\n",
       "      <th>Nomenclature</th>\n",
       "      <th>Source</th>\n",
       "      <th>Uniprot</th>\n",
       "      <th>Cell_Line</th>\n",
       "      <th>Inhibition/IC50</th>\n",
       "      <th>Unit</th>\n",
       "      <th>Target</th>\n",
       "      <th>Assay</th>\n",
       "      <th>Accession</th>\n",
       "      <th>Title</th>\n",
       "      <th>Authors</th>\n",
       "      <th>Reference</th>\n",
       "    </tr>\n",
       "  </thead>\n",
       "  <tbody>\n",
       "    <tr>\n",
       "      <th>0</th>\n",
       "      <td>AVP0001</td>\n",
       "      <td>PYVGSGLYRR</td>\n",
       "      <td>10</td>\n",
       "      <td>Avian myeloblastosis virus</td>\n",
       "      <td>AMV</td>\n",
       "      <td>Retroviridae</td>\n",
       "      <td>p2-p10</td>\n",
       "      <td>RSV gag polyprotein</td>\n",
       "      <td>P03354</td>\n",
       "      <td>-</td>\n",
       "      <td>50</td>\n",
       "      <td>μM</td>\n",
       "      <td>Release</td>\n",
       "      <td>Protease activity assay</td>\n",
       "      <td>1331099</td>\n",
       "      <td>Mechanism of inhibition of the retroviral prot...</td>\n",
       "      <td>Cameron CE, Grinde B, Jentoft J, Leis J, Weber...</td>\n",
       "      <td>J Biol Chem. 1992</td>\n",
       "    </tr>\n",
       "    <tr>\n",
       "      <th>1</th>\n",
       "      <td>AVP0002</td>\n",
       "      <td>SMIENLEYM</td>\n",
       "      <td>9</td>\n",
       "      <td>Lymphocytic choriomeningitis virus</td>\n",
       "      <td>LCMV</td>\n",
       "      <td>Arenaviridae</td>\n",
       "      <td>-</td>\n",
       "      <td>Synthetic</td>\n",
       "      <td>NaN</td>\n",
       "      <td>MC57</td>\n",
       "      <td>50</td>\n",
       "      <td>μM</td>\n",
       "      <td>CTL lysis</td>\n",
       "      <td>In vitro cytotoxicity assay</td>\n",
       "      <td>1383569</td>\n",
       "      <td>Design of high-affinity major histocompatibili...</td>\n",
       "      <td>Gairin JE, Oldstone MB.</td>\n",
       "      <td>J Virol. 1992</td>\n",
       "    </tr>\n",
       "    <tr>\n",
       "      <th>2</th>\n",
       "      <td>AVP0003</td>\n",
       "      <td>ECRSTSYAGAVVNDL</td>\n",
       "      <td>15</td>\n",
       "      <td>Herpes simplex virus 1</td>\n",
       "      <td>HSV 1</td>\n",
       "      <td>Herpesviridae</td>\n",
       "      <td>H2-(1-15)</td>\n",
       "      <td>HSV ribonucleotide reductase subunit 2</td>\n",
       "      <td>P10224</td>\n",
       "      <td>BHK-21/C</td>\n",
       "      <td>42</td>\n",
       "      <td>μM</td>\n",
       "      <td>Replication</td>\n",
       "      <td>Ribonucleotide reductase assay</td>\n",
       "      <td>3040743</td>\n",
       "      <td>Structure-activity studies on synthetic peptid...</td>\n",
       "      <td>Gaudreau P, Michaud J, Cohen EA, Langelier Y, ...</td>\n",
       "      <td>J Biol Chem. 1987</td>\n",
       "    </tr>\n",
       "    <tr>\n",
       "      <th>3</th>\n",
       "      <td>AVP0004</td>\n",
       "      <td>STSYAGAVVNDL</td>\n",
       "      <td>12</td>\n",
       "      <td>Herpes simplex virus 1</td>\n",
       "      <td>HSV 1</td>\n",
       "      <td>Herpesviridae</td>\n",
       "      <td>H2-(4-15)</td>\n",
       "      <td>HSV ribonucleotide reductase subunit 2</td>\n",
       "      <td>P10224</td>\n",
       "      <td>BHK-21/C</td>\n",
       "      <td>29</td>\n",
       "      <td>μM</td>\n",
       "      <td>Replication</td>\n",
       "      <td>Ribonucleotide reductase assay</td>\n",
       "      <td>3040743</td>\n",
       "      <td>Structure-activity studies on synthetic peptid...</td>\n",
       "      <td>Gaudreau P, Michaud J, Cohen EA, Langelier Y, ...</td>\n",
       "      <td>J Biol Chem. 1987</td>\n",
       "    </tr>\n",
       "    <tr>\n",
       "      <th>4</th>\n",
       "      <td>AVP0005</td>\n",
       "      <td>YAGAVVNDL</td>\n",
       "      <td>9</td>\n",
       "      <td>Herpes simplex virus 1</td>\n",
       "      <td>HSV 1</td>\n",
       "      <td>Herpesviridae</td>\n",
       "      <td>H2-(7-15)</td>\n",
       "      <td>HSV ribonucleotide reductase subunit 2</td>\n",
       "      <td>P10224</td>\n",
       "      <td>BHK-21/C</td>\n",
       "      <td>60</td>\n",
       "      <td>μM</td>\n",
       "      <td>Replication</td>\n",
       "      <td>Ribonucleotide reductase assay</td>\n",
       "      <td>3040743</td>\n",
       "      <td>Structure-activity studies on synthetic peptid...</td>\n",
       "      <td>Gaudreau P, Michaud J, Cohen EA, Langelier Y, ...</td>\n",
       "      <td>J Biol Chem. 1987</td>\n",
       "    </tr>\n",
       "  </tbody>\n",
       "</table>\n",
       "</div>"
      ],
      "text/plain": [
       "        Id         Sequence  Length                               Virus  \\\n",
       "0  AVP0001       PYVGSGLYRR      10          Avian myeloblastosis virus   \n",
       "1  AVP0002        SMIENLEYM       9  Lymphocytic choriomeningitis virus   \n",
       "2  AVP0003  ECRSTSYAGAVVNDL      15              Herpes simplex virus 1   \n",
       "3  AVP0004     STSYAGAVVNDL      12              Herpes simplex virus 1   \n",
       "4  AVP0005        YAGAVVNDL       9              Herpes simplex virus 1   \n",
       "\n",
       "  Abbreviation         Family Nomenclature  \\\n",
       "0          AMV   Retroviridae       p2-p10   \n",
       "1         LCMV   Arenaviridae            -   \n",
       "2        HSV 1  Herpesviridae    H2-(1-15)   \n",
       "3        HSV 1  Herpesviridae    H2-(4-15)   \n",
       "4        HSV 1  Herpesviridae    H2-(7-15)   \n",
       "\n",
       "                                   Source Uniprot Cell_Line Inhibition/IC50  \\\n",
       "0                     RSV gag polyprotein  P03354         -              50   \n",
       "1                               Synthetic     NaN      MC57              50   \n",
       "2  HSV ribonucleotide reductase subunit 2  P10224  BHK-21/C              42   \n",
       "3  HSV ribonucleotide reductase subunit 2  P10224  BHK-21/C              29   \n",
       "4  HSV ribonucleotide reductase subunit 2  P10224  BHK-21/C              60   \n",
       "\n",
       "  Unit       Target                           Assay Accession  \\\n",
       "0   μM      Release         Protease activity assay   1331099   \n",
       "1   μM    CTL lysis     In vitro cytotoxicity assay   1383569   \n",
       "2   μM  Replication  Ribonucleotide reductase assay   3040743   \n",
       "3   μM  Replication  Ribonucleotide reductase assay   3040743   \n",
       "4   μM  Replication  Ribonucleotide reductase assay   3040743   \n",
       "\n",
       "                                               Title  \\\n",
       "0  Mechanism of inhibition of the retroviral prot...   \n",
       "1  Design of high-affinity major histocompatibili...   \n",
       "2  Structure-activity studies on synthetic peptid...   \n",
       "3  Structure-activity studies on synthetic peptid...   \n",
       "4  Structure-activity studies on synthetic peptid...   \n",
       "\n",
       "                                             Authors          Reference  \n",
       "0  Cameron CE, Grinde B, Jentoft J, Leis J, Weber...  J Biol Chem. 1992  \n",
       "1                            Gairin JE, Oldstone MB.      J Virol. 1992  \n",
       "2  Gaudreau P, Michaud J, Cohen EA, Langelier Y, ...  J Biol Chem. 1987  \n",
       "3  Gaudreau P, Michaud J, Cohen EA, Langelier Y, ...  J Biol Chem. 1987  \n",
       "4  Gaudreau P, Michaud J, Cohen EA, Langelier Y, ...  J Biol Chem. 1987  "
      ]
     },
     "metadata": {},
     "output_type": "display_data"
    }
   ],
   "source": [
    "# Leitura do conjunto de dados\n",
    "\n",
    "data = pd.read_csv('AVPdb.csv',sep=';')\n",
    "display(data.head())"
   ]
  },
  {
   "cell_type": "code",
   "execution_count": 3,
   "id": "7ed71409",
   "metadata": {},
   "outputs": [],
   "source": [
    "# Funções auxiliares para o processo\n",
    "\n",
    "from sklearn.preprocessing import LabelEncoder\n",
    "from sklearn.model_selection import KFold, cross_val_score\n",
    "from sklearn.ensemble import RandomForestClassifier\n",
    "from sklearn.tree import DecisionTreeClassifier, export_text\n",
    "from sklearn.neighbors import KNeighborsClassifier\n",
    "from sklearn.naive_bayes import GaussianNB\n",
    "from sklearn.svm import SVC\n",
    "from sklearn.ensemble import AdaBoostClassifier\n",
    "from sklearn.model_selection import train_test_split  \n",
    "from sklearn.metrics import roc_curve, roc_auc_score\n",
    "\n",
    "# Validação cruzada em 10-folds que será utilizada em todo o trabalho\n",
    "k_fold = KFold(n_splits=10, shuffle=True, random_state=0)\n",
    "\n",
    "def add_labels(x,y):\n",
    "    for i in range(len(x)):\n",
    "        plt.text(i,y[i],y[i])\n",
    "\n",
    "def round_decimals(decimals):\n",
    "    decimals_rounded = []\n",
    "    for dec in decimals:\n",
    "        decimals_rounded.append(Decimal(dec).quantize(Decimal('0.001')))\n",
    "    return decimals_rounded\n",
    "\n",
    "def plot_labeled_values(labels, values, xlabel, ylabel, title, rotate_x = False):\n",
    "    rounded_values = round_decimals(values)\n",
    "    plt.figure(figsize = (10, 5))\n",
    "    plt.bar(labels, values)\n",
    "    if(rotate_x):\n",
    "        plt.xticks(rotation=30, ha='right')\n",
    "    add_labels(labels, rounded_values)\n",
    "    plt.xlabel(xlabel)\n",
    "    plt.ylabel(ylabel)\n",
    "    plt.title(title)\n",
    "    plt.show()\n",
    "\n",
    "def plot_roc_curve(fper, tper, color, label):  \n",
    "    plt.plot(fper, tper, color=color, label=label)\n",
    "    \n",
    "def calc_plot_roc(clf, label, color, train_X, test_X, train_y, test_y):\n",
    "    clf.fit(train_X, train_y)\n",
    "    probs = clf.predict_proba(test_X)[:, 1]  \n",
    "    fper, tper, thresholds = roc_curve(test_y, probs) \n",
    "    rocauc = roc_auc_score(test_y, probs)\n",
    "    rocauc = Decimal(rocauc).quantize(Decimal('0.001'))\n",
    "    plot_roc_curve(fper, tper, color, label + ': ' + str(rocauc))\n",
    "    \n",
    "def show_roc():\n",
    "    plt.plot([0, 1], [0, 1], color='darkblue', linestyle='--')\n",
    "    plt.xlabel('Taxa de falsos positivos')\n",
    "    plt.ylabel('Taxa de positivos verdadeiros')\n",
    "    plt.title('Curva ROC (Receiver Operating Characteristic)')\n",
    "    plt.legend()\n",
    "    plt.show()\n",
    "\n",
    "def get_subsequences(input_sequence, size):\n",
    "    sequence = input_sequence.replace(' ', '')\n",
    "    subsequences = []\n",
    "    if len(sequence) < size:\n",
    "        seq = sequence\n",
    "        while(len(seq) < size):\n",
    "            seq = seq + '0'\n",
    "        subsequences.append(seq)\n",
    "        return subsequences\n",
    "    n_subsequences = len(sequence) - size + 1\n",
    "    for i in range(n_subsequences):\n",
    "        subsequences.append(sequence[i:i+size])\n",
    "    return subsequences\n",
    "\n",
    "def extract_aminoacid_symbols(data):\n",
    "    symbols = ['0']\n",
    "    for index, x in data.iterrows():\n",
    "        x_sequence = x['Sequence'].replace(' ', '')\n",
    "        for x_symbol in x_sequence:\n",
    "            present = False\n",
    "            for symbol in symbols:\n",
    "                if x_symbol == symbol:\n",
    "                    present = True\n",
    "                    break\n",
    "            if not present:\n",
    "                symbols.append(x_symbol)\n",
    "    encoder = LabelEncoder()\n",
    "    encoder.fit(symbols)\n",
    "    return symbols, encoder\n",
    "\n",
    "def build_basic_dataframe(data, size):\n",
    "    subsequences = []\n",
    "    virus_ids = []\n",
    "    virus_abbreviations = []\n",
    "    sars_cov = []\n",
    "    hcv = []\n",
    "    for index, x in data.iterrows():\n",
    "        abbreviation = x['Abbreviation']\n",
    "        x_subsequences = get_subsequences(x['Sequence'], size)\n",
    "        for x_subsequence in x_subsequences:\n",
    "            subsequences.append(x_subsequence)\n",
    "            virus_abbreviations.append(abbreviation)\n",
    "            hcv.append(1 if abbreviation == 'HCV' else 0)\n",
    "            sars_cov.append(1 if abbreviation == 'SARS-CoV' else 0)\n",
    "    encoder = LabelEncoder()\n",
    "    encoder.fit(virus_abbreviations)\n",
    "    virus_ids = encoder.transform(virus_abbreviations)\n",
    "    return pd.DataFrame(list(zip(subsequences, virus_ids, hcv, sars_cov)), columns =['subsequence', 'virus_id', 'hcv', 'sars_cov']), encoder\n",
    "\n",
    "def build_and_print_decision_tree(X, y, replaces):\n",
    "    max_depth = 8\n",
    "    clf = DecisionTreeClassifier(random_state=0, max_depth=max_depth)\n",
    "    print('Decision Tree:', statistics.fmean(cross_val_score(clf, X, y, cv=k_fold, n_jobs=1)))\n",
    "    clf.fit(X, y)\n",
    "    tree_text = export_text(clf, feature_names=X.columns.tolist(), max_depth=max_depth)\n",
    "    tree_text = tree_text.replace('class: 0', 'No SARS-CoV inhibition observed')\n",
    "    tree_text = tree_text.replace('class: 1', 'Likely SARS-CoV inhibition observed')\n",
    "    for r in replaces:\n",
    "        tree_text = tree_text.replace(r[0], r[1])\n",
    "    print(tree_text)\n",
    "\n",
    "def benchmark_classifiers(X, y, plot_roc=True):\n",
    "    nb_clf = GaussianNB()\n",
    "    nb_accuracy = statistics.fmean(cross_val_score(nb_clf, X, y, cv=k_fold, n_jobs=1)) * 100\n",
    "    knn_clf = KNeighborsClassifier()\n",
    "    knn_accuracy = statistics.fmean(cross_val_score(knn_clf, X, y, cv=k_fold, n_jobs=1)) * 100\n",
    "    svm_clf = SVC(random_state=0)\n",
    "    svm_accuracy = statistics.fmean(cross_val_score(svm_clf, X, y, cv=k_fold, n_jobs=1)) * 100\n",
    "    svm_clf = SVC(random_state=0, probability=True)\n",
    "    rf_clf = RandomForestClassifier(random_state=0)\n",
    "    rf_accuracy = statistics.fmean(cross_val_score(rf_clf, X, y, cv=k_fold, n_jobs=1)) * 100\n",
    "    dt_clf = DecisionTreeClassifier(random_state=0)\n",
    "    dt_accuracy = statistics.fmean(cross_val_score(dt_clf, X, y, cv=k_fold, n_jobs=1)) * 100\n",
    "    xgb_clf = AdaBoostClassifier(random_state=0, n_estimators=160)\n",
    "    xgb_accuracy = statistics.fmean(cross_val_score(xgb_clf, X, y, cv=k_fold, n_jobs=1)) * 100\n",
    "    labels = ['Naive Bayes', 'Decision Tree', 'SVM','K-Nearest Neighbors','Random Forest', 'AdaBoost']\n",
    "    accuracies = [nb_accuracy, dt_accuracy, svm_accuracy, knn_accuracy, rf_accuracy, xgb_accuracy]\n",
    "    plot_labeled_values(labels, accuracies, \"Modelos\", \"Acurácia [%]\", \"Modelo x Acurácia obtida\", rotate_x = True)\n",
    "    if plot_roc:\n",
    "        plt.figure(figsize = (10, 5))\n",
    "        train_X, test_X, train_y, test_y = train_test_split(X, y, test_size=0.3, random_state=0)\n",
    "        calc_plot_roc(nb_clf, 'Naive Bayes', 'orange', train_X, test_X, train_y, test_y)\n",
    "        calc_plot_roc(dt_clf, 'Decision Tree', 'blue', train_X, test_X, train_y, test_y)\n",
    "        calc_plot_roc(svm_clf, 'SVM', 'green', train_X, test_X, train_y, test_y)\n",
    "        calc_plot_roc(knn_clf, 'K-Nearest Neighbors', 'purple', train_X, test_X, train_y, test_y)\n",
    "        calc_plot_roc(rf_clf, 'Random Forest', 'brown', train_X, test_X, train_y, test_y)\n",
    "        calc_plot_roc(xgb_clf, 'AdaBoost', 'red', train_X, test_X, train_y, test_y)\n",
    "        show_roc()"
   ]
  },
  {
   "cell_type": "markdown",
   "id": "7d1595c2",
   "metadata": {},
   "source": [
    "## Modelo de tradução posicional\n",
    "\n",
    "Neste modelo cada posição de uma subsequência será modelada como uma feature e indicaremos qual aminoácido está presente em uma dada posição."
   ]
  },
  {
   "cell_type": "code",
   "execution_count": 5,
   "id": "2f5e686d",
   "metadata": {},
   "outputs": [],
   "source": [
    "def build_encoder_translation_dataframe(data, size):\n",
    "    df, virus_encoder = build_basic_dataframe(data, size)\n",
    "    _, symbol_encoder = extract_aminoacid_symbols(data)\n",
    "    translations = []\n",
    "    for index, x in df.iterrows():\n",
    "        subsequence = x['subsequence']\n",
    "        subsequence_arr = []\n",
    "        for s in subsequence:\n",
    "           subsequence_arr.append(s) \n",
    "        encoded = symbol_encoder.transform(subsequence_arr)\n",
    "        dictionary = {\n",
    "            'virus_id': x['virus_id'],\n",
    "            'sars_cov': x['sars_cov'],\n",
    "            'hcv': x['hcv']\n",
    "        }\n",
    "        for i in range(size):\n",
    "            dictionary['pos_'+str(i+1)] = encoded[i]\n",
    "        translations.append(dictionary)\n",
    "    return pd.DataFrame(translations), virus_encoder, symbol_encoder"
   ]
  },
  {
   "cell_type": "code",
   "execution_count": 6,
   "id": "2a853204",
   "metadata": {},
   "outputs": [
    {
     "data": {
      "text/html": [
       "<div>\n",
       "<style scoped>\n",
       "    .dataframe tbody tr th:only-of-type {\n",
       "        vertical-align: middle;\n",
       "    }\n",
       "\n",
       "    .dataframe tbody tr th {\n",
       "        vertical-align: top;\n",
       "    }\n",
       "\n",
       "    .dataframe thead th {\n",
       "        text-align: right;\n",
       "    }\n",
       "</style>\n",
       "<table border=\"1\" class=\"dataframe\">\n",
       "  <thead>\n",
       "    <tr style=\"text-align: right;\">\n",
       "      <th></th>\n",
       "      <th>virus_id</th>\n",
       "      <th>sars_cov</th>\n",
       "      <th>hcv</th>\n",
       "      <th>pos_1</th>\n",
       "      <th>pos_2</th>\n",
       "      <th>pos_3</th>\n",
       "      <th>pos_4</th>\n",
       "      <th>pos_5</th>\n",
       "      <th>pos_6</th>\n",
       "      <th>pos_7</th>\n",
       "      <th>pos_8</th>\n",
       "    </tr>\n",
       "  </thead>\n",
       "  <tbody>\n",
       "    <tr>\n",
       "      <th>0</th>\n",
       "      <td>1</td>\n",
       "      <td>0</td>\n",
       "      <td>0</td>\n",
       "      <td>13</td>\n",
       "      <td>20</td>\n",
       "      <td>18</td>\n",
       "      <td>6</td>\n",
       "      <td>16</td>\n",
       "      <td>6</td>\n",
       "      <td>10</td>\n",
       "      <td>20</td>\n",
       "    </tr>\n",
       "    <tr>\n",
       "      <th>1</th>\n",
       "      <td>1</td>\n",
       "      <td>0</td>\n",
       "      <td>0</td>\n",
       "      <td>20</td>\n",
       "      <td>18</td>\n",
       "      <td>6</td>\n",
       "      <td>16</td>\n",
       "      <td>6</td>\n",
       "      <td>10</td>\n",
       "      <td>20</td>\n",
       "      <td>15</td>\n",
       "    </tr>\n",
       "    <tr>\n",
       "      <th>2</th>\n",
       "      <td>1</td>\n",
       "      <td>0</td>\n",
       "      <td>0</td>\n",
       "      <td>18</td>\n",
       "      <td>6</td>\n",
       "      <td>16</td>\n",
       "      <td>6</td>\n",
       "      <td>10</td>\n",
       "      <td>20</td>\n",
       "      <td>15</td>\n",
       "      <td>15</td>\n",
       "    </tr>\n",
       "    <tr>\n",
       "      <th>3</th>\n",
       "      <td>41</td>\n",
       "      <td>0</td>\n",
       "      <td>0</td>\n",
       "      <td>16</td>\n",
       "      <td>11</td>\n",
       "      <td>8</td>\n",
       "      <td>4</td>\n",
       "      <td>12</td>\n",
       "      <td>10</td>\n",
       "      <td>4</td>\n",
       "      <td>20</td>\n",
       "    </tr>\n",
       "    <tr>\n",
       "      <th>4</th>\n",
       "      <td>41</td>\n",
       "      <td>0</td>\n",
       "      <td>0</td>\n",
       "      <td>11</td>\n",
       "      <td>8</td>\n",
       "      <td>4</td>\n",
       "      <td>12</td>\n",
       "      <td>10</td>\n",
       "      <td>4</td>\n",
       "      <td>20</td>\n",
       "      <td>11</td>\n",
       "    </tr>\n",
       "  </tbody>\n",
       "</table>\n",
       "</div>"
      ],
      "text/plain": [
       "   virus_id  sars_cov  hcv  pos_1  pos_2  pos_3  pos_4  pos_5  pos_6  pos_7  \\\n",
       "0         1         0    0     13     20     18      6     16      6     10   \n",
       "1         1         0    0     20     18      6     16      6     10     20   \n",
       "2         1         0    0     18      6     16      6     10     20     15   \n",
       "3        41         0    0     16     11      8      4     12     10      4   \n",
       "4        41         0    0     11      8      4     12     10      4     20   \n",
       "\n",
       "   pos_8  \n",
       "0     20  \n",
       "1     15  \n",
       "2     15  \n",
       "3     20  \n",
       "4     11  "
      ]
     },
     "execution_count": 6,
     "metadata": {},
     "output_type": "execute_result"
    }
   ],
   "source": [
    "df, virus_encoder, symbol_encoder = build_encoder_translation_dataframe(data, 8)\n",
    "df.head()"
   ]
  },
  {
   "cell_type": "code",
   "execution_count": 7,
   "id": "2f914d1b",
   "metadata": {},
   "outputs": [],
   "source": [
    "X = df.drop(columns=['virus_id', 'sars_cov', 'hcv'])"
   ]
  },
  {
   "cell_type": "code",
   "execution_count": 8,
   "id": "09b81081",
   "metadata": {},
   "outputs": [
    {
     "data": {
      "image/png": "[encoded data removed]",
      "text/plain": [
       "<Figure size 720x360 with 1 Axes>"
      ]
     },
     "metadata": {
      "needs_background": "light"
     },
     "output_type": "display_data"
    }
   ],
   "source": [
    "y = df['virus_id'].values.ravel()\n",
    "benchmark_classifiers(X, y, plot_roc=False)"
   ]
  },
  {
   "cell_type": "code",
   "execution_count": 9,
   "id": "07c662bf",
   "metadata": {},
   "outputs": [
    {
     "data": {
      "image/png": "[encoded data removed]",
      "text/plain": [
       "<Figure size 720x360 with 1 Axes>"
      ]
     },
     "metadata": {
      "needs_background": "light"
     },
     "output_type": "display_data"
    },
    {
     "data": {
      "image/png": "[encoded data removed]",
      "text/plain": [
       "<Figure size 720x360 with 1 Axes>"
      ]
     },
     "metadata": {
      "needs_background": "light"
     },
     "output_type": "display_data"
    }
   ],
   "source": [
    "y = df['sars_cov'].values.ravel()\n",
    "benchmark_classifiers(X, y)"
   ]
  },
  {
   "cell_type": "code",
   "execution_count": 10,
   "id": "d26162d6",
   "metadata": {},
   "outputs": [
    {
     "data": {
      "image/png": "[encoded data removed]",
      "text/plain": [
       "<Figure size 720x360 with 1 Axes>"
      ]
     },
     "metadata": {
      "needs_background": "light"
     },
     "output_type": "display_data"
    },
    {
     "data": {
      "image/png": "[encoded data removed]",
      "text/plain": [
       "<Figure size 720x360 with 1 Axes>"
      ]
     },
     "metadata": {
      "needs_background": "light"
     },
     "output_type": "display_data"
    }
   ],
   "source": [
    "y = df['hcv'].values.ravel()\n",
    "benchmark_classifiers(X, y)"
   ]
  },
  {
   "cell_type": "markdown",
   "id": "4912bce1",
   "metadata": {},
   "source": [
    "## Modelo de posição dos aminoácidos\n",
    "\n",
    "Neste modelo teremos `tamanho da subsequência` * `número de aminoácidos` features e cada uma delas indicará se um aminoácido está presente em uma dada posição, o modelo então será uma matriz bastante esparsa contendo apenas valores 0 ou 1."
   ]
  },
  {
   "cell_type": "code",
   "execution_count": 11,
   "id": "32207441",
   "metadata": {},
   "outputs": [],
   "source": [
    "def build_aminoacid_position_dataframe(data, size):\n",
    "    df, virus_encoder = build_basic_dataframe(data, size)\n",
    "    symbols, _ = extract_aminoacid_symbols(data)\n",
    "    aminoacid_positions = []\n",
    "    for index, x in df.iterrows():\n",
    "        subsequence = x['subsequence']\n",
    "        dictionary = {\n",
    "            'virus_id': x['virus_id'],\n",
    "            'sars_cov': x['sars_cov'],\n",
    "            'hcv': x['hcv']\n",
    "        }\n",
    "        for i in range(len(subsequence)):\n",
    "            if subsequence[i] != '0':\n",
    "                dictionary[subsequence[i] + '_' + str(i+1)] = 1\n",
    "            for s in symbols:\n",
    "                if s != subsequence[i] and s != '0':\n",
    "                    dictionary[s + '_' + str(i+1)] = 0\n",
    "        aminoacid_positions.append(dictionary)\n",
    "    return pd.DataFrame(aminoacid_positions), virus_encoder"
   ]
  },
  {
   "cell_type": "code",
   "execution_count": 12,
   "id": "ed3d4ded",
   "metadata": {},
   "outputs": [
    {
     "data": {
      "text/html": [
       "<div>\n",
       "<style scoped>\n",
       "    .dataframe tbody tr th:only-of-type {\n",
       "        vertical-align: middle;\n",
       "    }\n",
       "\n",
       "    .dataframe tbody tr th {\n",
       "        vertical-align: top;\n",
       "    }\n",
       "\n",
       "    .dataframe thead th {\n",
       "        text-align: right;\n",
       "    }\n",
       "</style>\n",
       "<table border=\"1\" class=\"dataframe\">\n",
       "  <thead>\n",
       "    <tr style=\"text-align: right;\">\n",
       "      <th></th>\n",
       "      <th>virus_id</th>\n",
       "      <th>sars_cov</th>\n",
       "      <th>hcv</th>\n",
       "      <th>P_1</th>\n",
       "      <th>Y_1</th>\n",
       "      <th>V_1</th>\n",
       "      <th>G_1</th>\n",
       "      <th>S_1</th>\n",
       "      <th>L_1</th>\n",
       "      <th>R_1</th>\n",
       "      <th>...</th>\n",
       "      <th>N_8</th>\n",
       "      <th>C_8</th>\n",
       "      <th>T_8</th>\n",
       "      <th>A_8</th>\n",
       "      <th>D_8</th>\n",
       "      <th>K_8</th>\n",
       "      <th>F_8</th>\n",
       "      <th>Q_8</th>\n",
       "      <th>H_8</th>\n",
       "      <th>W_8</th>\n",
       "    </tr>\n",
       "  </thead>\n",
       "  <tbody>\n",
       "    <tr>\n",
       "      <th>0</th>\n",
       "      <td>1</td>\n",
       "      <td>0</td>\n",
       "      <td>0</td>\n",
       "      <td>1</td>\n",
       "      <td>0</td>\n",
       "      <td>0</td>\n",
       "      <td>0</td>\n",
       "      <td>0</td>\n",
       "      <td>0</td>\n",
       "      <td>0</td>\n",
       "      <td>...</td>\n",
       "      <td>0</td>\n",
       "      <td>0</td>\n",
       "      <td>0</td>\n",
       "      <td>0</td>\n",
       "      <td>0</td>\n",
       "      <td>0</td>\n",
       "      <td>0</td>\n",
       "      <td>0</td>\n",
       "      <td>0</td>\n",
       "      <td>0</td>\n",
       "    </tr>\n",
       "    <tr>\n",
       "      <th>1</th>\n",
       "      <td>1</td>\n",
       "      <td>0</td>\n",
       "      <td>0</td>\n",
       "      <td>0</td>\n",
       "      <td>1</td>\n",
       "      <td>0</td>\n",
       "      <td>0</td>\n",
       "      <td>0</td>\n",
       "      <td>0</td>\n",
       "      <td>0</td>\n",
       "      <td>...</td>\n",
       "      <td>0</td>\n",
       "      <td>0</td>\n",
       "      <td>0</td>\n",
       "      <td>0</td>\n",
       "      <td>0</td>\n",
       "      <td>0</td>\n",
       "      <td>0</td>\n",
       "      <td>0</td>\n",
       "      <td>0</td>\n",
       "      <td>0</td>\n",
       "    </tr>\n",
       "    <tr>\n",
       "      <th>2</th>\n",
       "      <td>1</td>\n",
       "      <td>0</td>\n",
       "      <td>0</td>\n",
       "      <td>0</td>\n",
       "      <td>0</td>\n",
       "      <td>1</td>\n",
       "      <td>0</td>\n",
       "      <td>0</td>\n",
       "      <td>0</td>\n",
       "      <td>0</td>\n",
       "      <td>...</td>\n",
       "      <td>0</td>\n",
       "      <td>0</td>\n",
       "      <td>0</td>\n",
       "      <td>0</td>\n",
       "      <td>0</td>\n",
       "      <td>0</td>\n",
       "      <td>0</td>\n",
       "      <td>0</td>\n",
       "      <td>0</td>\n",
       "      <td>0</td>\n",
       "    </tr>\n",
       "    <tr>\n",
       "      <th>3</th>\n",
       "      <td>41</td>\n",
       "      <td>0</td>\n",
       "      <td>0</td>\n",
       "      <td>0</td>\n",
       "      <td>0</td>\n",
       "      <td>0</td>\n",
       "      <td>0</td>\n",
       "      <td>1</td>\n",
       "      <td>0</td>\n",
       "      <td>0</td>\n",
       "      <td>...</td>\n",
       "      <td>0</td>\n",
       "      <td>0</td>\n",
       "      <td>0</td>\n",
       "      <td>0</td>\n",
       "      <td>0</td>\n",
       "      <td>0</td>\n",
       "      <td>0</td>\n",
       "      <td>0</td>\n",
       "      <td>0</td>\n",
       "      <td>0</td>\n",
       "    </tr>\n",
       "    <tr>\n",
       "      <th>4</th>\n",
       "      <td>41</td>\n",
       "      <td>0</td>\n",
       "      <td>0</td>\n",
       "      <td>0</td>\n",
       "      <td>0</td>\n",
       "      <td>0</td>\n",
       "      <td>0</td>\n",
       "      <td>0</td>\n",
       "      <td>0</td>\n",
       "      <td>0</td>\n",
       "      <td>...</td>\n",
       "      <td>0</td>\n",
       "      <td>0</td>\n",
       "      <td>0</td>\n",
       "      <td>0</td>\n",
       "      <td>0</td>\n",
       "      <td>0</td>\n",
       "      <td>0</td>\n",
       "      <td>0</td>\n",
       "      <td>0</td>\n",
       "      <td>0</td>\n",
       "    </tr>\n",
       "  </tbody>\n",
       "</table>\n",
       "<p>5 rows × 163 columns</p>\n",
       "</div>"
      ],
      "text/plain": [
       "   virus_id  sars_cov  hcv  P_1  Y_1  V_1  G_1  S_1  L_1  R_1  ...  N_8  C_8  \\\n",
       "0         1         0    0    1    0    0    0    0    0    0  ...    0    0   \n",
       "1         1         0    0    0    1    0    0    0    0    0  ...    0    0   \n",
       "2         1         0    0    0    0    1    0    0    0    0  ...    0    0   \n",
       "3        41         0    0    0    0    0    0    1    0    0  ...    0    0   \n",
       "4        41         0    0    0    0    0    0    0    0    0  ...    0    0   \n",
       "\n",
       "   T_8  A_8  D_8  K_8  F_8  Q_8  H_8  W_8  \n",
       "0    0    0    0    0    0    0    0    0  \n",
       "1    0    0    0    0    0    0    0    0  \n",
       "2    0    0    0    0    0    0    0    0  \n",
       "3    0    0    0    0    0    0    0    0  \n",
       "4    0    0    0    0    0    0    0    0  \n",
       "\n",
       "[5 rows x 163 columns]"
      ]
     },
     "execution_count": 12,
     "metadata": {},
     "output_type": "execute_result"
    }
   ],
   "source": [
    "df, virus_encoder = build_aminoacid_position_dataframe(data, 8)\n",
    "df.head()"
   ]
  },
  {
   "cell_type": "code",
   "execution_count": 13,
   "id": "d170d89c",
   "metadata": {},
   "outputs": [],
   "source": [
    "X = df.drop(columns=['virus_id', 'sars_cov', 'hcv'])"
   ]
  },
  {
   "cell_type": "code",
   "execution_count": 14,
   "id": "affa5c77",
   "metadata": {},
   "outputs": [
    {
     "data": {
      "image/png": "[encoded data removed]",
      "text/plain": [
       "<Figure size 720x360 with 1 Axes>"
      ]
     },
     "metadata": {
      "needs_background": "light"
     },
     "output_type": "display_data"
    }
   ],
   "source": [
    "y = df['virus_id'].values.ravel()\n",
    "benchmark_classifiers(X, y, plot_roc=False)"
   ]
  },
  {
   "cell_type": "code",
   "execution_count": null,
   "id": "4ebe3444",
   "metadata": {},
   "outputs": [],
   "source": [
    "y = df['sars_cov'].values.ravel()\n",
    "benchmark_classifiers(X, y)"
   ]
  },
  {
   "cell_type": "code",
   "execution_count": null,
   "id": "0415dd29",
   "metadata": {},
   "outputs": [],
   "source": [
    "y = df['hcv'].values.ravel()\n",
    "benchmark_classifiers(X, y)"
   ]
  },
  {
   "cell_type": "code",
   "execution_count": null,
   "id": "dce67600",
   "metadata": {},
   "outputs": [],
   "source": [
    "y = df['sars_cov'].values.ravel()\n",
    "replaces = []\n",
    "replaces.append(['<= 0.50', '== False'])\n",
    "replaces.append(['>  0.50', '== True'])\n",
    "build_and_print_decision_tree(X, y, replaces)"
   ]
  },
  {
   "cell_type": "markdown",
   "id": "bb444b52",
   "metadata": {},
   "source": [
    "## 2-Grams "
   ]
  },
  {
   "cell_type": "code",
   "execution_count": null,
   "id": "4c8ee88d",
   "metadata": {},
   "outputs": [],
   "source": [
    "def build_2_gram_subsequence_dataframe(data, size):\n",
    "    df, virus_encoder = build_basic_dataframe(data, size)\n",
    "    symbols, _ = extract_aminoacid_symbols(data)\n",
    "    encoded_2_gram = []\n",
    "    for index, x in df.iterrows():\n",
    "        dictionary = {\n",
    "            'virus_id': x['virus_id'],\n",
    "            'sars_cov': x['sars_cov'],\n",
    "            'hcv': x['hcv']\n",
    "        }\n",
    "        for s in symbols:\n",
    "            if s != '0':\n",
    "                dictionary[s] = 0\n",
    "        for x_symbol in x['subsequence']:\n",
    "            for s in symbols:\n",
    "                if x_symbol == s and s != '0':\n",
    "                    dictionary[s] = dictionary[s]+1\n",
    "                    break\n",
    "        encoded_2_gram.append(dictionary)\n",
    "    return pd.DataFrame(encoded_2_gram), virus_encoder"
   ]
  },
  {
   "cell_type": "code",
   "execution_count": null,
   "id": "2d5897c8",
   "metadata": {},
   "outputs": [],
   "source": [
    "max_sequence_length = data['Sequence'].str.len().max()"
   ]
  },
  {
   "cell_type": "markdown",
   "id": "c9265c15",
   "metadata": {},
   "source": [
    "### Subsequências de tamanho 8"
   ]
  },
  {
   "cell_type": "code",
   "execution_count": null,
   "id": "c38cb1fe",
   "metadata": {},
   "outputs": [],
   "source": [
    "df, virus_encoder = build_2_gram_subsequence_dataframe(data, 8)\n",
    "df.head()"
   ]
  },
  {
   "cell_type": "code",
   "execution_count": null,
   "id": "3b19ce45",
   "metadata": {},
   "outputs": [],
   "source": [
    "X = df.drop(columns=['virus_id', 'sars_cov', 'hcv'])"
   ]
  },
  {
   "cell_type": "code",
   "execution_count": null,
   "id": "3f2e18b7",
   "metadata": {},
   "outputs": [],
   "source": [
    "y = df['virus_id'].values.ravel()\n",
    "benchmark_classifiers(X, y, plot_roc=False)"
   ]
  },
  {
   "cell_type": "code",
   "execution_count": null,
   "id": "945e8f06",
   "metadata": {},
   "outputs": [],
   "source": [
    "y = df['hcv'].values.ravel()\n",
    "benchmark_classifiers(X, y)"
   ]
  },
  {
   "cell_type": "code",
   "execution_count": null,
   "id": "dfb482b4",
   "metadata": {},
   "outputs": [],
   "source": [
    "y = df['sars_cov'].values.ravel()\n",
    "benchmark_classifiers(X, y)"
   ]
  },
  {
   "cell_type": "markdown",
   "id": "4d648dd1",
   "metadata": {},
   "source": [
    "### Sequências completas"
   ]
  },
  {
   "cell_type": "code",
   "execution_count": null,
   "id": "d7f56c96",
   "metadata": {},
   "outputs": [],
   "source": [
    "df, virus_encoder = build_2_gram_subsequence_dataframe(data, max_sequence_length)\n",
    "df.head()"
   ]
  },
  {
   "cell_type": "code",
   "execution_count": null,
   "id": "055bbc72",
   "metadata": {},
   "outputs": [],
   "source": [
    "X = df.drop(columns=['virus_id', 'sars_cov', 'hcv'])"
   ]
  },
  {
   "cell_type": "code",
   "execution_count": null,
   "id": "fc9aa2db",
   "metadata": {},
   "outputs": [],
   "source": [
    "y = df['virus_id'].values.ravel()\n",
    "benchmark_classifiers(X, y, plot_roc=False)"
   ]
  },
  {
   "cell_type": "code",
   "execution_count": null,
   "id": "ac8d76fc",
   "metadata": {},
   "outputs": [],
   "source": [
    "y = df['hcv'].values.ravel()\n",
    "benchmark_classifiers(X, y)"
   ]
  },
  {
   "cell_type": "code",
   "execution_count": null,
   "id": "c12945dc",
   "metadata": {},
   "outputs": [],
   "source": [
    "y = df['sars_cov'].values.ravel()\n",
    "benchmark_classifiers(X, y)"
   ]
  },
  {
   "cell_type": "code",
   "execution_count": null,
   "id": "08e29379",
   "metadata": {},
   "outputs": [],
   "source": [
    "build_and_print_decision_tree(X, y, [])"
   ]
  },
  {
   "cell_type": "markdown",
   "id": "bd6dff88",
   "metadata": {},
   "source": [
    "## BLOSUM50 orthonormal"
   ]
  },
  {
   "cell_type": "code",
   "execution_count": null,
   "id": "485e11ef",
   "metadata": {},
   "outputs": [],
   "source": [
    "import blosum as bl\n",
    "def build_blosum50_orthonormal_dataframe(data, size):\n",
    "    blosum50 = dict(bl.BLOSUM(50))\n",
    "    df, virus_encoder = build_basic_dataframe(data, size)\n",
    "    symbols, _ = extract_aminoacid_symbols(data)\n",
    "    aminoacid_positions = []\n",
    "    for index, x in df.iterrows():\n",
    "        subsequence = x['subsequence']\n",
    "        dictionary = {\n",
    "            'virus_id': x['virus_id'],\n",
    "            'sars_cov': x['sars_cov'],\n",
    "            'hcv': x['hcv']\n",
    "        }\n",
    "        for i in range(len(subsequence)):\n",
    "            if subsequence[i] != '0':\n",
    "                dictionary[subsequence[i] + '_' + str(i+1)] = blosum50[subsequence[i]+subsequence[i]]\n",
    "            for s in symbols:\n",
    "                if s != subsequence[i] and s != '0':\n",
    "                    dictionary[s + '_' + str(i+1)] = 0\n",
    "        aminoacid_positions.append(dictionary)\n",
    "    return pd.DataFrame(aminoacid_positions), virus_encoder"
   ]
  },
  {
   "cell_type": "code",
   "execution_count": null,
   "id": "4a0dafd5",
   "metadata": {},
   "outputs": [],
   "source": [
    "df, virus_encoder = build_blosum50_orthonormal_dataframe(data, 8)\n",
    "df.head()"
   ]
  },
  {
   "cell_type": "code",
   "execution_count": null,
   "id": "f4ef4536",
   "metadata": {},
   "outputs": [],
   "source": [
    "X = df.drop(columns=['virus_id', 'sars_cov', 'hcv'])"
   ]
  },
  {
   "cell_type": "code",
   "execution_count": null,
   "id": "d85ac438",
   "metadata": {},
   "outputs": [],
   "source": [
    "y = df['virus_id'].values.ravel()\n",
    "benchmark_classifiers(X, y, plot_roc=False)"
   ]
  },
  {
   "cell_type": "code",
   "execution_count": null,
   "id": "5d7c42c5",
   "metadata": {},
   "outputs": [],
   "source": [
    "y = df['hcv'].values.ravel()\n",
    "benchmark_classifiers(X, y)"
   ]
  },
  {
   "cell_type": "code",
   "execution_count": null,
   "id": "5edb0ca8",
   "metadata": {},
   "outputs": [],
   "source": [
    "y = df['sars_cov'].values.ravel()\n",
    "benchmark_classifiers(X, y)"
   ]
  },
  {
   "cell_type": "markdown",
   "id": "fec9bf73",
   "metadata": {},
   "source": [
    "## Redes neuronais NLP"
   ]
  },
  {
   "cell_type": "code",
   "execution_count": 48,
   "id": "893dcc50",
   "metadata": {},
   "outputs": [
    {
     "name": "stdout",
     "output_type": "stream",
     "text": [
      "tensor([[0., 0., 0., 0., 0., 0., 0., 0., 0., 0., 0., 0., 0., 0., 1., 0., 0., 0.,\n",
      "         0., 0., 0.]])\n",
      "torch.Size([9, 1, 21])\n"
     ]
    }
   ],
   "source": [
    "import torch\n",
    "\n",
    "all_letters, _ = extract_aminoacid_symbols(data)\n",
    "n_letters = len(all_letters)\n",
    "\n",
    "# Find letter index from all_letters, e.g. \"a\" = 0\n",
    "def letterToIndex(letter):\n",
    "    return all_letters.index(letter)\n",
    "\n",
    "# Just for demonstration, turn a letter into a <1 x n_letters> Tensor\n",
    "def letterToTensor(letter):\n",
    "    tensor = torch.zeros(1, n_letters)\n",
    "    tensor[0][letterToIndex(letter)] = 1\n",
    "    return tensor\n",
    "\n",
    "# Turn a line into a <line_length x 1 x n_letters>,\n",
    "# or an array of one-hot letter vectors\n",
    "def lineToTensor(line):\n",
    "    tensor = torch.zeros(len(line), 1, n_letters)\n",
    "    for li, letter in enumerate(line):\n",
    "        tensor[li][0][letterToIndex(letter)] = 1\n",
    "    return tensor"
   ]
  },
  {
   "cell_type": "code",
   "execution_count": 10,
   "id": "bc23f70a",
   "metadata": {},
   "outputs": [],
   "source": [
    "import torch.nn as nn\n",
    "\n",
    "class RNN(nn.Module):\n",
    "    def __init__(self, input_size, hidden_size, output_size):\n",
    "        super(RNN, self).__init__()\n",
    "\n",
    "        self.hidden_size = hidden_size\n",
    "\n",
    "        self.i2h = nn.Linear(input_size + hidden_size, hidden_size)\n",
    "        self.i2o = nn.Linear(input_size + hidden_size, output_size)\n",
    "        self.softmax = nn.LogSoftmax(dim=1)\n",
    "\n",
    "    def forward(self, input, hidden):\n",
    "        combined = torch.cat((input, hidden), 1)\n",
    "        hidden = self.i2h(combined)\n",
    "        output = self.i2o(combined)\n",
    "        output = self.softmax(output)\n",
    "        return output, hidden\n",
    "\n",
    "    def initHidden(self):\n",
    "        return torch.zeros(1, self.hidden_size)"
   ]
  },
  {
   "cell_type": "code",
   "execution_count": 78,
   "id": "db629acd",
   "metadata": {},
   "outputs": [],
   "source": [
    "def build_categories(y):\n",
    "    categories = []\n",
    "    for y_sample in y:\n",
    "        missing = True\n",
    "        for cat in categories:\n",
    "            if cat == y_sample:\n",
    "                missing = False\n",
    "                break\n",
    "        if missing:\n",
    "            categories.append(y_sample)\n",
    "    return categories\n",
    "\n",
    "def categoryFromOutput(all_categories, output):\n",
    "    top_n, top_i = output.topk(1)\n",
    "    category_i = top_i[0].item()\n",
    "    return all_categories[category_i], category_i"
   ]
  },
  {
   "cell_type": "code",
   "execution_count": 55,
   "id": "b0ebca01",
   "metadata": {},
   "outputs": [],
   "source": [
    "max_sequence_length = data['Sequence'].str.len().max()\n",
    "X = []\n",
    "for index, x in data.iterrows():\n",
    "    seq = x['Sequence'].replace(' ', '')\n",
    "    X.append(lineToTensor(seq))"
   ]
  },
  {
   "cell_type": "code",
   "execution_count": 75,
   "id": "5f89e44b",
   "metadata": {},
   "outputs": [],
   "source": [
    "criterion = nn.NLLLoss()\n",
    "learning_rate = 0.005 # If you set this too high, it might explode. If too low, it might not learn\n",
    "\n",
    "def train_example(network, category_tensor, line_tensor):\n",
    "    hidden = network.initHidden()\n",
    "\n",
    "    network.zero_grad()\n",
    "\n",
    "    for i in range(line_tensor.size()[0]):\n",
    "        output, hidden = network(line_tensor[i], hidden)\n",
    "\n",
    "    loss = criterion(output, category_tensor)\n",
    "    loss.backward()\n",
    "\n",
    "    # Add parameters' gradients to their values, multiplied by learning rate\n",
    "    for p in rnn.parameters():\n",
    "        p.data.add_(p.grad.data, alpha=-learning_rate)\n",
    "\n",
    "    return output, loss.item()"
   ]
  },
  {
   "cell_type": "code",
   "execution_count": 91,
   "id": "f0ee7c76",
   "metadata": {},
   "outputs": [],
   "source": [
    "def train_network(network, X_train, y_train, n_epochs):\n",
    "    all_categories = build_categories(y_train)\n",
    "    for n in range(n_epochs):\n",
    "        for i in range(len(X_train)):\n",
    "            category = y_train[i]\n",
    "            category_index = 0\n",
    "            for i in range(len(all_categories)):\n",
    "                if all_categories[i] == category:\n",
    "                    category_index = i\n",
    "                    break\n",
    "            category_index = all_categories.index(category)\n",
    "            category_tensor = torch.tensor([category_index], dtype=torch.long)\n",
    "            output, loss = train_example(network, category_tensor, X_train[i])"
   ]
  },
  {
   "cell_type": "code",
   "execution_count": 92,
   "id": "9ef8362e",
   "metadata": {},
   "outputs": [],
   "source": [
    "y = []\n",
    "for index, y_sample in data.iterrows():\n",
    "    abbreviation = y_sample['Abbreviation']\n",
    "    result = 1 if abbreviation == 'SARS-CoV' else 0\n",
    "    y.append(result)\n",
    "\n",
    "train_X, test_X, train_y, test_y = train_test_split(X, y, test_size=0.3, random_state=0)\n",
    "\n",
    "n_hidden = 128\n",
    "n_categories = len(build_categories(y))\n",
    "rnn = RNN(n_letters, n_hidden, n_categories)\n",
    "\n",
    "train_network(rnn, train_X, train_y, 1)"
   ]
  },
  {
   "cell_type": "code",
   "execution_count": 102,
   "id": "d92d3d58",
   "metadata": {},
   "outputs": [
    {
     "name": "stdout",
     "output_type": "stream",
     "text": [
      "0.3220064724919094\n"
     ]
    }
   ],
   "source": [
    "def categoryFromOutput(output, y_samples):\n",
    "    all_categories = build_categories(y_samples)\n",
    "    top_n, top_i = output.topk(1)\n",
    "    category_i = top_i[0].item()\n",
    "    return category_i\n",
    "\n",
    "def evaluate(line_tensor):\n",
    "    hidden = rnn.initHidden()\n",
    "    for i in range(line_tensor.size()[0]):\n",
    "        output, hidden = rnn(line_tensor[i], hidden)\n",
    "    return output\n",
    "\n",
    "total = 0\n",
    "miss = 0\n",
    "for i in range(len(test_X)):\n",
    "    result = categoryFromOutput(evaluate(test_X[i]), test_y)\n",
    "    actual = test_y[i]\n",
    "    total = total + 1\n",
    "    if actual != result:\n",
    "        miss = miss + 1\n",
    "print(miss/total)"
   ]
  },
  {
   "cell_type": "code",
   "execution_count": null,
   "id": "164fbaf9",
   "metadata": {},
   "outputs": [],
   "source": []
  },
  {
   "cell_type": "code",
   "execution_count": null,
   "id": "47a40564",
   "metadata": {},
   "outputs": [],
   "source": []
  }
 ],
 "metadata": {
  "kernelspec": {
   "display_name": "Python 3 (ipykernel)",
   "language": "python",
   "name": "python3"
  },
  "language_info": {
   "codemirror_mode": {
    "name": "ipython",
    "version": 3
   },
   "file_extension": ".py",
   "mimetype": "text/x-python",
   "name": "python",
   "nbconvert_exporter": "python",
   "pygments_lexer": "ipython3",
   "version": "3.9.12"
  }
 },
 "nbformat": 4,
 "nbformat_minor": 5
}
